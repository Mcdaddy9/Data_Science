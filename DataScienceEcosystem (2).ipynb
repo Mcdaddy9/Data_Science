{
 "cells": [
  {
   "cell_type": "markdown",
   "id": "50fe7624-ef6b-4dbb-84d7-3880063a11ba",
   "metadata": {},
   "source": [
    "# Data Science Tools and Ecosystem"
   ]
  },
  {
   "cell_type": "markdown",
   "id": "bae125cb-cca4-4c5b-ace8-c33ef38f64a3",
   "metadata": {},
   "source": [
    "In this notebook, Data Science Tools and Ecosystem are summarised."
   ]
  },
  {
   "cell_type": "markdown",
   "id": "43aaf53b-c9b2-41e0-9781-1cf4d3f497fa",
   "metadata": {},
   "source": [
    "Some of the popular languages that Data Scientists use are:\n",
    "1. R\n",
    "2. SQL\n",
    "3. Python"
   ]
  },
  {
   "cell_type": "markdown",
   "id": "a2810343-9add-4809-b385-40daa3111758",
   "metadata": {},
   "source": [
    "Some of the commonly used libraries used by Data Scientists include:\n",
    "1. NumPy\n",
    "2. ggplot2\n",
    "3. Pandas"
   ]
  },
  {
   "cell_type": "markdown",
   "id": "4c38d34e-1748-4b3a-8ce6-084ce8135b53",
   "metadata": {},
   "source": [
    "| Data Science Tools |\n",
    "| -------------------|\n",
    "| Jupyter Notebooks  |\n",
    "| R Studio           |\n",
    "| Apache Zeppelin    |"
   ]
  },
  {
   "cell_type": "markdown",
   "id": "94d36944-4dc3-4345-bf62-830defa61884",
   "metadata": {},
   "source": [
    "### Below are a few examples of evaluating arithmetic expressions in python\n",
    "# Addition\n",
    "4+3\n",
    "# Subtraction \n",
    "9-4 \n",
    "# Division \n",
    "10/2\n",
    "# Multiplication\n",
    "10*2"
   ]
  },
  {
   "cell_type": "code",
   "execution_count": 29,
   "id": "0e51fcbe-2770-40e3-b858-5e80c31a5d3e",
   "metadata": {},
   "outputs": [
    {
     "data": {
      "text/plain": [
       "17"
      ]
     },
     "execution_count": 29,
     "metadata": {},
     "output_type": "execute_result"
    }
   ],
   "source": [
    "# This is a simple arithmetic to multiply then add integers\n",
    "(3*4)+5"
   ]
  },
  {
   "cell_type": "code",
   "execution_count": 30,
   "id": "1ac8db6d-3cd2-41f1-9a09-f7e49859439f",
   "metadata": {},
   "outputs": [
    {
     "data": {
      "text/plain": [
       "3.3333333333333335"
      ]
     },
     "execution_count": 30,
     "metadata": {},
     "output_type": "execute_result"
    }
   ],
   "source": [
    "# This will convert 200 minutes to hours by dividing by 60\n",
    "200/60"
   ]
  },
  {
   "cell_type": "markdown",
   "id": "e9517015-a3b2-4eb7-81ae-8ddd192ee71c",
   "metadata": {},
   "source": [
    "**Objectives**\n",
    "- Discover github\n",
    "- Explore R\n",
    "- Explore Python\n",
    "- Discover IDE's\n",
    "- Discover Branches\n"
   ]
  },
  {
   "cell_type": "markdown",
   "id": "bd98138d-ce3a-4ca6-94ef-1c150cea0f3a",
   "metadata": {},
   "source": [
    "## Author\n",
    "Kyle McNicholas"
   ]
  },
  {
   "cell_type": "code",
   "execution_count": null,
   "id": "e9ee6408-81ae-4d03-90e0-9fb16d3fba00",
   "metadata": {},
   "outputs": [],
   "source": []
  }
 ],
 "metadata": {
  "kernelspec": {
   "display_name": "Python 3 (ipykernel)",
   "language": "python",
   "name": "python3"
  },
  "language_info": {
   "codemirror_mode": {
    "name": "ipython",
    "version": 3
   },
   "file_extension": ".py",
   "mimetype": "text/x-python",
   "name": "python",
   "nbconvert_exporter": "python",
   "pygments_lexer": "ipython3",
   "version": "3.12.4"
  }
 },
 "nbformat": 4,
 "nbformat_minor": 5
}
